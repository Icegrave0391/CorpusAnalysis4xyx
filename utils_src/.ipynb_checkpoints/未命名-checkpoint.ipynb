{
 "cells": [
  {
   "cell_type": "markdown",
   "metadata": {},
   "source": [
    "## Text Analytics of \"Fang Fang's Diary\"\n",
    "\n",
    "  对《方方日记》的文本分析。    \n",
    "  我们将对《方方日记》原始文本进行分词，并且提取语料库。    \n",
    "同时，我们将爬取BBC，NYT，央广网，人民网，中国日报，环球时报，sputniknews新闻网站于2020/01/25至2020/03/25之间所有与“武汉 疫情”相关的新闻，并且进行语料库的制作。    \n",
    "  通过LDA模型，我们可以生成新闻的不同主题以及关键词，并且进行分析。"
   ]
  },
  {
   "cell_type": "code",
   "execution_count": 1,
   "metadata": {},
   "outputs": [],
   "source": [
    "# Run some setup code for this notebook.\n",
    "\n",
    "import re\n",
    "import os\n",
    "import jieba\n",
    "import matplotlib.pyplot as plt\n",
    "from CorpusTool import CorpusTool\n",
    "\n",
    "# This is a bit of magic to make matplotlib figures appear inline in the notebook\n",
    "# rather than in a new window.\n",
    "%matplotlib inline\n",
    "plt.rcParams['figure.figsize'] = (10.0, 8.0) # set default size of plots\n",
    "plt.rcParams['image.interpolation'] = 'nearest'\n",
    "plt.rcParams['image.cmap'] = 'gray'\n",
    "\n",
    "# Some more magic so that the notebook will reload external python modules;\n",
    "# see http://stackoverflow.com/questions/1907993/autoreload-of-modules-in-ipython\n",
    "%load_ext autoreload\n",
    "%autoreload 2"
   ]
  },
  {
   "cell_type": "code",
   "execution_count": 2,
   "metadata": {},
   "outputs": [
    {
     "name": "stderr",
     "output_type": "stream",
     "text": [
      "Building prefix dict from the default dictionary ...\n",
      "2020-05-21 19:01:33,880 : DEBUG : Building prefix dict from the default dictionary ...\n",
      "Loading model from cache /var/folders/rh/4hnn5tcn0bzcpv2vt3grfl340000gn/T/jieba.cache\n",
      "2020-05-21 19:01:33,886 : DEBUG : Loading model from cache /var/folders/rh/4hnn5tcn0bzcpv2vt3grfl340000gn/T/jieba.cache\n",
      "Loading model cost 0.751 seconds.\n",
      "2020-05-21 19:01:34,633 : DEBUG : Loading model cost 0.751 seconds.\n",
      "Prefix dict has been built successfully.\n",
      "2020-05-21 19:01:34,634 : DEBUG : Prefix dict has been built successfully.\n"
     ]
    }
   ],
   "source": [
    "CorpusTool = CorpusTool()"
   ]
  },
  {
   "cell_type": "code",
   "execution_count": null,
   "metadata": {},
   "outputs": [],
   "source": []
  }
 ],
 "metadata": {
  "kernelspec": {
   "display_name": "Python 3",
   "language": "python",
   "name": "python3"
  },
  "language_info": {
   "codemirror_mode": {
    "name": "ipython",
    "version": 3
   },
   "file_extension": ".py",
   "mimetype": "text/x-python",
   "name": "python",
   "nbconvert_exporter": "python",
   "pygments_lexer": "ipython3",
   "version": "3.7.3"
  }
 },
 "nbformat": 4,
 "nbformat_minor": 2
}
